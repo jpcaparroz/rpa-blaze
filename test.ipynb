{
 "cells": [
  {
   "cell_type": "code",
   "execution_count": 28,
   "metadata": {},
   "outputs": [
    {
     "name": "stdout",
     "output_type": "stream",
     "text": [
      "<selenium.webdriver.firefox.webelement.FirefoxWebElement (session=\"2f1f4894-9e31-4bf0-903c-20f30b01cbed\", element=\"a3eca376-e134-4855-b00d-9acb967544d2\")>\n"
     ]
    }
   ],
   "source": [
    "from botcity.web import WebBot\n",
    "from botcity.web import By\n",
    "from botcity.web import Browser\n",
    "\n",
    "\n",
    "URL: str = \"https://blaze1.space/en/\"\n",
    "bot: WebBot = WebBot()\n",
    "\n",
    "bot.headless = True #Visualize execution\n",
    "bot.browser = Browser.FIREFOX #Set browser\n",
    "\n",
    "\n",
    "try:\n",
    "    # Acess index page\n",
    "    bot.browse(URL)\n",
    "\n",
    "    # Navigate to Double page\n",
    "    double_button = bot.find_element('[data-testid=\"left-bar-roulette\"]', By.CSS_SELECTOR)\n",
    "    double_button.click()\n",
    "    \n",
    "    # Check previous entries\n",
    "    entries = bot.find_element('[class=\"entries main\"]', By.CSS_SELECTOR)\n",
    "    print(entries.)\n",
    "    \n",
    "\n",
    "except:\n",
    "    raise Exception\n",
    "\n",
    "finally:\n",
    "    bot.stop_browser()\n"
   ]
  }
 ],
 "metadata": {
  "kernelspec": {
   "display_name": ".venv",
   "language": "python",
   "name": "python3"
  },
  "language_info": {
   "codemirror_mode": {
    "name": "ipython",
    "version": 3
   },
   "file_extension": ".py",
   "mimetype": "text/x-python",
   "name": "python",
   "nbconvert_exporter": "python",
   "pygments_lexer": "ipython3",
   "version": "3.12.3"
  }
 },
 "nbformat": 4,
 "nbformat_minor": 2
}
